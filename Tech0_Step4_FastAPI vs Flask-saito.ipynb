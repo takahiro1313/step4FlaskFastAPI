{
 "cells": [
  {
   "cell_type": "markdown",
   "id": "f1693462",
   "metadata": {},
   "source": [
    "# 1. step4宿題"
   ]
  },
  {
   "cell_type": "code",
   "execution_count": null,
   "id": "0c882eb0",
   "metadata": {},
   "outputs": [],
   "source": [
    "# Windows: Powercell\n",
    "$env:FLASK_APP =  \"app_Flask.py\"      #\"app.py\"の部分はFlaskのpythonファイル名に変更\n",
    "flask run --port 5001                     #今回は5001 portを使用"
   ]
  },
  {
   "cell_type": "markdown",
   "id": "4c92ded5",
   "metadata": {},
   "source": [
    "anaconda環境では、set FLASK_APP=app_Flask.py"
   ]
  },
  {
   "cell_type": "markdown",
   "id": "7fe8fee2",
   "metadata": {},
   "source": [
    "# 3. API Requestの準備"
   ]
  },
  {
   "cell_type": "code",
   "execution_count": 124,
   "id": "f0a02d80",
   "metadata": {},
   "outputs": [],
   "source": [
    "import requests  # import"
   ]
  },
  {
   "cell_type": "code",
   "execution_count": 126,
   "id": "e3b0efb9",
   "metadata": {},
   "outputs": [],
   "source": [
    "##End pointの設定　  -    port + \"/double\"\n",
    "Flask_url = 'http://127.0.0.1:5001/saito'     # Flask / port 5001\n",
    "FastAPI_url = 'http://127.0.0.1:8001/saito'  # FastAPI /  port 8001"
   ]
  },
  {
   "cell_type": "markdown",
   "id": "4f1f1d68",
   "metadata": {},
   "source": [
    "# "
   ]
  },
  {
   "cell_type": "code",
   "execution_count": 145,
   "id": "40d89471",
   "metadata": {},
   "outputs": [],
   "source": [
    "# FastAPI / API docs通りにリクエストボディ（body）を作成。\n",
    "body = {\n",
    "    \"name\" : \"斎\"\n",
    "}"
   ]
  },
  {
   "cell_type": "markdown",
   "id": "a368d80d",
   "metadata": {},
   "source": [
    "# "
   ]
  },
  {
   "cell_type": "markdown",
   "id": "257ae04c",
   "metadata": {},
   "source": [
    "##   2-1.Flask"
   ]
  },
  {
   "cell_type": "code",
   "execution_count": 146,
   "id": "87ed4767",
   "metadata": {
    "scrolled": true
   },
   "outputs": [],
   "source": [
    "res_flask = requests.post(Flask_url,json = body)  #Endpointは\"Flask_url\"を指定"
   ]
  },
  {
   "cell_type": "code",
   "execution_count": 147,
   "id": "61a4ed09",
   "metadata": {},
   "outputs": [
    {
     "data": {
      "text/plain": [
       "<Response [200]>"
      ]
     },
     "execution_count": 147,
     "metadata": {},
     "output_type": "execute_result"
    }
   ],
   "source": [
    "res_flask"
   ]
  },
  {
   "cell_type": "code",
   "execution_count": 148,
   "id": "2da45ff2",
   "metadata": {},
   "outputs": [
    {
     "data": {
      "text/plain": [
       "{'result': '斎藤貴大は茨城県出身でカレーが好きな20代男性です。今後のアップデートにより、もっと細かい情報を流出することも可能です'}"
      ]
     },
     "execution_count": 148,
     "metadata": {},
     "output_type": "execute_result"
    }
   ],
   "source": [
    "res_flask.json()"
   ]
  },
  {
   "cell_type": "markdown",
   "id": "d907f26e",
   "metadata": {},
   "source": [
    "##   2-2.FastAPI"
   ]
  },
  {
   "cell_type": "code",
   "execution_count": 149,
   "id": "65d6c832",
   "metadata": {},
   "outputs": [],
   "source": [
    "# FastAPI / API docs通りにリクエストボディ（body）を作成。\n",
    "body = {\n",
    "    \"name\" : \"斎藤\"\n",
    "}"
   ]
  },
  {
   "cell_type": "code",
   "execution_count": 150,
   "id": "4cf70cf9",
   "metadata": {},
   "outputs": [],
   "source": [
    "res_fastapi = requests.post(FastAPI_url,json = body)  #Endpointは\"FastAPI_url\"を指定"
   ]
  },
  {
   "cell_type": "code",
   "execution_count": 151,
   "id": "12bbdccb",
   "metadata": {},
   "outputs": [
    {
     "data": {
      "text/plain": [
       "<Response [200]>"
      ]
     },
     "execution_count": 151,
     "metadata": {},
     "output_type": "execute_result"
    }
   ],
   "source": [
    "res_fastapi "
   ]
  },
  {
   "cell_type": "code",
   "execution_count": 152,
   "id": "78b85fcc",
   "metadata": {
    "scrolled": true
   },
   "outputs": [
    {
     "data": {
      "text/plain": [
       "{'result': '斎藤貴大は茨城県出身でカレーが好きな20代男性です。今後のアップデートにより、もっと細かい情報を流出することも可能です'}"
      ]
     },
     "execution_count": 152,
     "metadata": {},
     "output_type": "execute_result"
    }
   ],
   "source": [
    "res_fastapi .json()"
   ]
  },
  {
   "cell_type": "markdown",
   "id": "4576d3da",
   "metadata": {},
   "source": [
    "### どちらも 10 x 2 = 20の結果を正しく回答"
   ]
  },
  {
   "cell_type": "markdown",
   "id": "09d17f05",
   "metadata": {},
   "source": [
    "# "
   ]
  },
  {
   "cell_type": "markdown",
   "id": "0bdb7a44",
   "metadata": {},
   "source": [
    "# "
   ]
  },
  {
   "cell_type": "markdown",
   "id": "3017c31e",
   "metadata": {},
   "source": [
    "# Errorパターン：文字列のPOST"
   ]
  },
  {
   "cell_type": "code",
   "execution_count": 154,
   "id": "92ee4708",
   "metadata": {},
   "outputs": [],
   "source": [
    "# bodyを数字としてみる\n",
    "body = {\n",
    "    \"number\" : 2\n",
    "}"
   ]
  },
  {
   "cell_type": "markdown",
   "id": "a630c76e",
   "metadata": {},
   "source": [
    "##   2-1.Flask"
   ]
  },
  {
   "cell_type": "code",
   "execution_count": 155,
   "id": "c7f02c89",
   "metadata": {},
   "outputs": [],
   "source": [
    "res_flask = requests.post(Flask_url,json = body)  #Endpointは\"Flask_url\"を指定"
   ]
  },
  {
   "cell_type": "code",
   "execution_count": 156,
   "id": "630489bc",
   "metadata": {},
   "outputs": [
    {
     "data": {
      "text/plain": [
       "<Response [200]>"
      ]
     },
     "execution_count": 156,
     "metadata": {},
     "output_type": "execute_result"
    }
   ],
   "source": [
    "res_flask"
   ]
  },
  {
   "cell_type": "code",
   "execution_count": 157,
   "id": "c867a48d",
   "metadata": {},
   "outputs": [
    {
     "data": {
      "text/plain": [
       "{'result': 'あなたには教えられません'}"
      ]
     },
     "execution_count": 157,
     "metadata": {},
     "output_type": "execute_result"
    }
   ],
   "source": [
    "res_flask.json()"
   ]
  },
  {
   "cell_type": "markdown",
   "id": "2a336442",
   "metadata": {},
   "source": [
    "# "
   ]
  },
  {
   "cell_type": "markdown",
   "id": "d2a7cb1a",
   "metadata": {},
   "source": [
    "##   2-2.FastAPI"
   ]
  },
  {
   "cell_type": "code",
   "execution_count": 158,
   "id": "d9aa6cc1",
   "metadata": {},
   "outputs": [],
   "source": [
    "res_fastapi = requests.post(FastAPI_url,json = body)  #Endpointは\"FastAPI_url\"を指定"
   ]
  },
  {
   "cell_type": "code",
   "execution_count": 159,
   "id": "82d8e69a",
   "metadata": {},
   "outputs": [
    {
     "data": {
      "text/plain": [
       "<Response [422]>"
      ]
     },
     "execution_count": 159,
     "metadata": {},
     "output_type": "execute_result"
    }
   ],
   "source": [
    "res_fastapi "
   ]
  },
  {
   "cell_type": "code",
   "execution_count": 160,
   "id": "765ef8c0",
   "metadata": {
    "scrolled": true
   },
   "outputs": [
    {
     "data": {
      "text/plain": [
       "{'detail': [{'type': 'missing',\n",
       "   'loc': ['body', 'name'],\n",
       "   'msg': 'Field required',\n",
       "   'input': {'number': 2},\n",
       "   'url': 'https://errors.pydantic.dev/2.6/v/missing'}]}"
      ]
     },
     "execution_count": 160,
     "metadata": {},
     "output_type": "execute_result"
    }
   ],
   "source": [
    "res_fastapi .json()"
   ]
  },
  {
   "cell_type": "markdown",
   "id": "c7be5ba8",
   "metadata": {},
   "source": [
    "### 「文字列：int」が入力となった時点でError。　型定義に合っていない入力は受け入れない仕様"
   ]
  },
  {
   "cell_type": "markdown",
   "id": "ebbd7033",
   "metadata": {},
   "source": [
    "# "
   ]
  },
  {
   "cell_type": "markdown",
   "id": "74907d3f",
   "metadata": {},
   "source": [
    "# "
   ]
  }
 ],
 "metadata": {
  "kernelspec": {
   "display_name": "Python 3 (ipykernel)",
   "language": "python",
   "name": "python3"
  },
  "language_info": {
   "codemirror_mode": {
    "name": "ipython",
    "version": 3
   },
   "file_extension": ".py",
   "mimetype": "text/x-python",
   "name": "python",
   "nbconvert_exporter": "python",
   "pygments_lexer": "ipython3",
   "version": "3.9.18"
  }
 },
 "nbformat": 4,
 "nbformat_minor": 5
}
